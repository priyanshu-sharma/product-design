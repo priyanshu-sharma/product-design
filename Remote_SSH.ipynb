{
  "cells": [
    {
      "cell_type": "code",
      "execution_count": null,
      "metadata": {
        "colab": {
          "base_uri": "https://localhost:8080/"
        },
        "id": "KGNYJGYDjiuD",
        "outputId": "1cc47193-f77b-4c7c-a381-3f03f16e259e"
      },
      "outputs": [
        {
          "name": "stdout",
          "output_type": "stream",
          "text": [
            "Wed Mar  9 11:43:41 2022       \n",
            "+-----------------------------------------------------------------------------+\n",
            "| NVIDIA-SMI 460.32.03    Driver Version: 460.32.03    CUDA Version: 11.2     |\n",
            "|-------------------------------+----------------------+----------------------+\n",
            "| GPU  Name        Persistence-M| Bus-Id        Disp.A | Volatile Uncorr. ECC |\n",
            "| Fan  Temp  Perf  Pwr:Usage/Cap|         Memory-Usage | GPU-Util  Compute M. |\n",
            "|                               |                      |               MIG M. |\n",
            "|===============================+======================+======================|\n",
            "|   0  Tesla T4            Off  | 00000000:00:04.0 Off |                    0 |\n",
            "| N/A   42C    P8     9W /  70W |      0MiB / 15109MiB |      0%      Default |\n",
            "|                               |                      |                  N/A |\n",
            "+-------------------------------+----------------------+----------------------+\n",
            "                                                                               \n",
            "+-----------------------------------------------------------------------------+\n",
            "| Processes:                                                                  |\n",
            "|  GPU   GI   CI        PID   Type   Process name                  GPU Memory |\n",
            "|        ID   ID                                                   Usage      |\n",
            "|=============================================================================|\n",
            "|  No running processes found                                                 |\n",
            "+-----------------------------------------------------------------------------+\n"
          ]
        }
      ],
      "source": [
        "gpu_info = !nvidia-smi\n",
        "gpu_info = '\\n'.join(gpu_info)\n",
        "if gpu_info.find('failed') >= 0:\n",
        "  print('Not connected to a GPU')\n",
        "else:\n",
        "  print(gpu_info)"
      ]
    },
    {
      "cell_type": "code",
      "execution_count": null,
      "metadata": {
        "colab": {
          "base_uri": "https://localhost:8080/"
        },
        "id": "s9IYcp9F57DT",
        "outputId": "d4a24230-c216-40f1-94a2-ec25818bc37c"
      },
      "outputs": [
        {
          "name": "stdout",
          "output_type": "stream",
          "text": [
            "Mounted at /content/gdrive\n"
          ]
        }
      ],
      "source": [
        "from google.colab import drive\n",
        "drive.mount(\"/content/gdrive\")"
      ]
    },
    {
      "cell_type": "code",
      "execution_count": null,
      "metadata": {
        "colab": {
          "background_save": true,
          "base_uri": "https://localhost:8080/"
        },
        "id": "q4Opmvuo5Rm9",
        "outputId": "855b0e95-0876-4ee5-fdcd-a7ad491ba8bb"
      },
      "outputs": [
        {
          "name": "stdout",
          "output_type": "stream",
          "text": [
            "Collecting colab_ssh\n",
            "  Downloading colab_ssh-0.3.27-py3-none-any.whl (26 kB)\n",
            "Installing collected packages: colab-ssh\n",
            "Successfully installed colab-ssh-0.3.27\n",
            "Warning: Due to some issues with ngrok on Google Colab, reported in the issue https://github.com/WassimBenzarti/colab-ssh/issues/45, \n",
            "we highly recommend that update your code by following this documentation https://github.com/WassimBenzarti/colab-ssh#getting-started\n",
            "Successfully running 4.tcp.ngrok.io:16268\n",
            "[Optional] You can also connect with VSCode SSH Remote extension using this configuration:\n",
            "\n",
            "  Host google_colab_ssh\n",
            "    HostName 4.tcp.ngrok.io\n",
            "    User root\n",
            "    Port 16268\n",
            "    \n",
            "Successfully cloned the repository in ./product-design\n"
          ]
        },
        {
          "data": {
            "text/html": [
              "<div>\n",
              "\t<div class=\"choice-section\">\n",
              "\t\t<h4>Your repository was cloned with success</h4>\n",
              "\t\t<p>You can open your repository on VSCode with one click:</p>\n",
              "\t\t<a href=\"vscode://vscode-remote/ssh-remote+root@4.tcp.ngrok.io:16268/content/product-design\">\n",
              "\t\t\t<button class=\"button\">Open product-design</button>\n",
              "\t\t</a>\n",
              "\t</div>\n",
              "</div>"
            ],
            "text/plain": [
              "<IPython.core.display.HTML object>"
            ]
          },
          "metadata": {},
          "output_type": "display_data"
        }
      ],
      "source": [
        "!pip install colab_ssh --upgrade\n",
        "\n",
        "from colab_ssh import launch_ssh, init_git\n",
        "token = \"25ZP6gwyiprRCeNMk1BQOPVEEfh_4mTf8EwxeShPomyht2nDt\"\n",
        "launch_ssh(token, \"priyanshu\")\n",
        "init_git(\"https://github.com/priyanshu-sharma/product-design.git\")\n",
        "\n",
        "import time\n",
        "while True:\n",
        "  time.sleep(300)"
      ]
    }
  ],
  "metadata": {
    "accelerator": "GPU",
    "colab": {
      "name": "Remote-SSH",
      "provenance": []
    },
    "kernelspec": {
      "display_name": "Python 3",
      "name": "python3"
    },
    "language_info": {
      "name": "python"
    }
  },
  "nbformat": 4,
  "nbformat_minor": 0
}